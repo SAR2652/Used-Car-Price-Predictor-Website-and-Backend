{
  "nbformat": 4,
  "nbformat_minor": 0,
  "metadata": {
    "colab": {
      "name": "CarPricePredictor.ipynb",
      "provenance": []
    },
    "kernelspec": {
      "name": "python3",
      "display_name": "Python 3"
    },
    "accelerator": "GPU"
  },
  "cells": [
    {
      "cell_type": "code",
      "metadata": {
        "id": "k_GgcztWa01q",
        "colab_type": "code",
        "outputId": "cbae796e-34ee-46b0-fa1c-46122e22acba",
        "colab": {
          "base_uri": "https://localhost:8080/",
          "height": 87
        }
      },
      "source": [
        "import pandas as pd\n",
        "import numpy as np\n",
        "\n",
        "filename = \"train.csv\"\n",
        "df = pd.read_csv(filename)\n",
        "print(df.columns)"
      ],
      "execution_count": 23,
      "outputs": [
        {
          "output_type": "stream",
          "text": [
            "Index(['Name', 'Location', 'Year', 'Kilometers_Driven', 'Fuel_Type',\n",
            "       'Transmission', 'Owner_Type', 'Mileage', 'Engine', 'Power', 'Seats',\n",
            "       'New_Price', 'Price'],\n",
            "      dtype='object')\n"
          ],
          "name": "stdout"
        }
      ]
    },
    {
      "cell_type": "code",
      "metadata": {
        "id": "tIM_ZA_tCNQB",
        "colab_type": "code",
        "colab": {}
      },
      "source": [
        "def reset_df():\n",
        "  global df\n",
        "  df = pd.read_csv(\"train.csv\")"
      ],
      "execution_count": 0,
      "outputs": []
    },
    {
      "cell_type": "code",
      "metadata": {
        "id": "x5jyC28veXMT",
        "colab_type": "code",
        "colab": {}
      },
      "source": [
        "import seaborn as sns\n",
        "import matplotlib.pyplot as plt\n",
        "class Visualizer:\n",
        "  def __init__(self):\n",
        "    pass\n",
        "\n",
        "  def getCrossTab(self, feature_name, label, dataframe):\n",
        "    data_ct = pd.crosstab(dataframe[feature_name], dataframe[label], margins = False)\n",
        "    return data_ct\n",
        "\n",
        "  def drawBoxPlot(self, feature, label, df_, subplots = False, nrows = 0, ncolumns = 0):\n",
        "    if not subplots:\n",
        "      sns.boxplot(x=label, y = feature, data = df_)\n",
        "    else:\n",
        "      fig, ax = plt.subplots(nrows, ncolumns, figsize = (15,15))\n",
        "      fig.subplots_adjust(hspace = 0.8, wspace = 0.8)\n",
        "      d = 0\n",
        "      for row in range(nrows):\n",
        "        for col in range(ncolumns):\n",
        "          sns.boxplot(x=label, y=feature[d], data=df_, ax = ax[row, col])\n",
        "          d += 1\n",
        "          if d >= len(feature):\n",
        "            return\n",
        "\n",
        "  def drawHist(self, feature, df_, subplots = False, nrows = 0, ncolumns = 0):\n",
        "    if not subplots:\n",
        "        plt.hist(df_[feature])\n",
        "      \n",
        "    else:\n",
        "      fig, ax = plt.subplots(nrows, ncolumns, figsize = (15,15))\n",
        "      fig.subplots_adjust(hspace = 0.8, wspace = 0.8)\n",
        "      d = 0\n",
        "      for row in range(nrows):\n",
        "        for col in range(ncolumns):\n",
        "          ax[row, col].hist(df_[feature[d]])\n",
        "          ax[row, col].set_xlabel(feature[d])\n",
        "          d += 1\n",
        "          if d >= len(feature):\n",
        "            return\n",
        "\n",
        "  def simplePlot(self, feature, label, df_, subplots = False, nrows = 0, ncolumns = 0):\n",
        "    if not subplots: \n",
        "     plt.plot(df_[feature], df_[label])\n",
        "    else:\n",
        "      fig, ax = plt.subplots(nrows, ncolumns, figsize = (15,15))\n",
        "      fig.subplots_adjust(hspace = 0.8, wspace = 0.8)\n",
        "      d = 0\n",
        "      for row in range(nrows):\n",
        "        for col in range(ncolumns):\n",
        "          ax[row, col].plot(df_[feature[d]], df_[label])\n",
        "          ax[row, col].set_xlabel(feature[d])\n",
        "          d += 1\n",
        "          if d >= len(feature):\n",
        "            return\n",
        "\n",
        "  def hexBins(self, feature, label, df_, subplots = False, nrows = 0, ncolumns = 0):\n",
        "    if not subplots:\n",
        "      x = df_[feature]\n",
        "      y = df_[label]\n",
        "      plt.hexbin(x, y, gridsize=30, cmap='Blues')\n"
      ],
      "execution_count": 0,
      "outputs": []
    },
    {
      "cell_type": "code",
      "metadata": {
        "id": "fSBtxBObB1P9",
        "colab_type": "code",
        "colab": {
          "base_uri": "https://localhost:8080/",
          "height": 167
        },
        "outputId": "7bc39f42-8d7b-48fa-eeeb-9d830df46017"
      },
      "source": [
        "df[\"Engine\"].shape[1]"
      ],
      "execution_count": 61,
      "outputs": [
        {
          "output_type": "error",
          "ename": "IndexError",
          "evalue": "ignored",
          "traceback": [
            "\u001b[0;31m---------------------------------------------------------------------------\u001b[0m",
            "\u001b[0;31mIndexError\u001b[0m                                Traceback (most recent call last)",
            "\u001b[0;32m<ipython-input-61-e2e74afb6078>\u001b[0m in \u001b[0;36m<module>\u001b[0;34m()\u001b[0m\n\u001b[0;32m----> 1\u001b[0;31m \u001b[0mdf\u001b[0m\u001b[0;34m[\u001b[0m\u001b[0;34m\"Engine\"\u001b[0m\u001b[0;34m]\u001b[0m\u001b[0;34m.\u001b[0m\u001b[0mshape\u001b[0m\u001b[0;34m[\u001b[0m\u001b[0;36m1\u001b[0m\u001b[0;34m]\u001b[0m\u001b[0;34m\u001b[0m\u001b[0;34m\u001b[0m\u001b[0m\n\u001b[0m",
            "\u001b[0;31mIndexError\u001b[0m: tuple index out of range"
          ]
        }
      ]
    },
    {
      "cell_type": "code",
      "metadata": {
        "id": "iAm_NMuQC-3E",
        "colab_type": "code",
        "colab": {}
      },
      "source": [
        "reset_df()"
      ],
      "execution_count": 0,
      "outputs": []
    },
    {
      "cell_type": "code",
      "metadata": {
        "id": "YjmZkExFCuIq",
        "colab_type": "code",
        "colab": {}
      },
      "source": [
        "for x in range(df.shape[0]):\n",
        "    val = df.loc[x, \"Engine\"]\n",
        "    i = 0\n",
        "    if not (type(val) == float):\n",
        "      df.loc[x, \"Engine\"] = int((df.loc[x, \"Engine\"]).split()[0])"
      ],
      "execution_count": 0,
      "outputs": []
    },
    {
      "cell_type": "code",
      "metadata": {
        "id": "NPzDdMQZE_aY",
        "colab_type": "code",
        "colab": {}
      },
      "source": [
        ""
      ],
      "execution_count": 0,
      "outputs": []
    },
    {
      "cell_type": "code",
      "metadata": {
        "id": "77XZzKeHC3z8",
        "colab_type": "code",
        "colab": {}
      },
      "source": [
        "import math \n",
        "for x in range(df[\"Engine\"].shape[0]):\n",
        "  if type(df.loc[x, 'Engine']) == float:\n",
        "    print(math.isnan(df.loc[x,\"Engine\"]))"
      ],
      "execution_count": 0,
      "outputs": []
    },
    {
      "cell_type": "code",
      "metadata": {
        "id": "NKi7XzSkeifH",
        "colab_type": "code",
        "outputId": "7548b602-3800-4b4e-8ff4-6481b712bf6b",
        "colab": {
          "base_uri": "https://localhost:8080/",
          "height": 775
        }
      },
      "source": [
        "%matplotlib inline\n",
        "from sklearn.impute import SimpleImputer\n",
        "si = SimpleImputer(strategy = 'mean')\n",
        "df['Engine'] = si.fit_transform(np.array(df['Engine']).reshape(-1,1))\n",
        "\n",
        "visualizer = Visualizer()\n",
        "feature_name = \"Price\"\n",
        "label = \"Kilometers_Driven\"\n",
        "visualizer.simplePlot(feature = label, label = feature_name, df_ = df)\n",
        "label = \"Fuel_Type\"\n",
        "plt.figure()\n",
        "visualizer.drawBoxPlot(feature = feature_name, label = label, df_=df)\n",
        "plt.figure()\n",
        "visualizer.drawHist(feature = \"Engine\", df_ = df)"
      ],
      "execution_count": 71,
      "outputs": [
        {
          "output_type": "display_data",
          "data": {
            "image/png": "[encoded data removed]",
            "text/plain": [
              "<Figure size 432x288 with 1 Axes>"
            ]
          },
          "metadata": {
            "tags": []
          }
        },
        {
          "output_type": "display_data",
          "data": {
            "image/png": "[encoded data removed]",
            "text/plain": [
              "<Figure size 432x288 with 1 Axes>"
            ]
          },
          "metadata": {
            "tags": []
          }
        },
        {
          "output_type": "display_data",
          "data": {
            "image/png": "[encoded data removed]",
            "text/plain": [
              "<Figure size 432x288 with 1 Axes>"
            ]
          },
          "metadata": {
            "tags": []
          }
        }
      ]
    },
    {
      "cell_type": "code",
      "metadata": {
        "id": "7u_vO6Y4fIWc",
        "colab_type": "code",
        "colab": {}
      },
      "source": [
        ""
      ],
      "execution_count": 0,
      "outputs": []
    },
    {
      "cell_type": "code",
      "metadata": {
        "id": "cPzqJw43eFeD",
        "colab_type": "code",
        "outputId": "1e29f47f-c587-4ed0-b696-056b0755c628",
        "colab": {
          "base_uri": "https://localhost:8080/",
          "height": 656
        }
      },
      "source": [
        "df.drop('New_Price', axis = 1)"
      ],
      "execution_count": 0,
      "outputs": [
        {
          "output_type": "execute_result",
          "data": {
            "text/html": [
              "<div>\n",
              "<style scoped>\n",
              "    .dataframe tbody tr th:only-of-type {\n",
              "        vertical-align: middle;\n",
              "    }\n",
              "\n",
              "    .dataframe tbody tr th {\n",
              "        vertical-align: top;\n",
              "    }\n",
              "\n",
              "    .dataframe thead th {\n",
              "        text-align: right;\n",
              "    }\n",
              "</style>\n",
              "<table border=\"1\" class=\"dataframe\">\n",
              "  <thead>\n",
              "    <tr style=\"text-align: right;\">\n",
              "      <th></th>\n",
              "      <th>Name</th>\n",
              "      <th>Location</th>\n",
              "      <th>Year</th>\n",
              "      <th>Kilometers_Driven</th>\n",
              "      <th>Fuel_Type</th>\n",
              "      <th>Transmission</th>\n",
              "      <th>Owner_Type</th>\n",
              "      <th>Mileage</th>\n",
              "      <th>Engine</th>\n",
              "      <th>Power</th>\n",
              "      <th>Seats</th>\n",
              "      <th>Price</th>\n",
              "    </tr>\n",
              "  </thead>\n",
              "  <tbody>\n",
              "    <tr>\n",
              "      <th>0</th>\n",
              "      <td>Maruti Wagon R LXI CNG</td>\n",
              "      <td>Mumbai</td>\n",
              "      <td>2010</td>\n",
              "      <td>72000</td>\n",
              "      <td>CNG</td>\n",
              "      <td>Manual</td>\n",
              "      <td>First</td>\n",
              "      <td>26.6 km/kg</td>\n",
              "      <td>998 CC</td>\n",
              "      <td>58.16 bhp</td>\n",
              "      <td>5.0</td>\n",
              "      <td>1.75</td>\n",
              "    </tr>\n",
              "    <tr>\n",
              "      <th>1</th>\n",
              "      <td>Hyundai Creta 1.6 CRDi SX Option</td>\n",
              "      <td>Pune</td>\n",
              "      <td>2015</td>\n",
              "      <td>41000</td>\n",
              "      <td>Diesel</td>\n",
              "      <td>Manual</td>\n",
              "      <td>First</td>\n",
              "      <td>19.67 kmpl</td>\n",
              "      <td>1582 CC</td>\n",
              "      <td>126.2 bhp</td>\n",
              "      <td>5.0</td>\n",
              "      <td>12.50</td>\n",
              "    </tr>\n",
              "    <tr>\n",
              "      <th>2</th>\n",
              "      <td>Honda Jazz V</td>\n",
              "      <td>Chennai</td>\n",
              "      <td>2011</td>\n",
              "      <td>46000</td>\n",
              "      <td>Petrol</td>\n",
              "      <td>Manual</td>\n",
              "      <td>First</td>\n",
              "      <td>18.2 kmpl</td>\n",
              "      <td>1199 CC</td>\n",
              "      <td>88.7 bhp</td>\n",
              "      <td>5.0</td>\n",
              "      <td>4.50</td>\n",
              "    </tr>\n",
              "    <tr>\n",
              "      <th>3</th>\n",
              "      <td>Maruti Ertiga VDI</td>\n",
              "      <td>Chennai</td>\n",
              "      <td>2012</td>\n",
              "      <td>87000</td>\n",
              "      <td>Diesel</td>\n",
              "      <td>Manual</td>\n",
              "      <td>First</td>\n",
              "      <td>20.77 kmpl</td>\n",
              "      <td>1248 CC</td>\n",
              "      <td>88.76 bhp</td>\n",
              "      <td>7.0</td>\n",
              "      <td>6.00</td>\n",
              "    </tr>\n",
              "    <tr>\n",
              "      <th>4</th>\n",
              "      <td>Audi A4 New 2.0 TDI Multitronic</td>\n",
              "      <td>Coimbatore</td>\n",
              "      <td>2013</td>\n",
              "      <td>40670</td>\n",
              "      <td>Diesel</td>\n",
              "      <td>Automatic</td>\n",
              "      <td>Second</td>\n",
              "      <td>15.2 kmpl</td>\n",
              "      <td>1968 CC</td>\n",
              "      <td>140.8 bhp</td>\n",
              "      <td>5.0</td>\n",
              "      <td>17.74</td>\n",
              "    </tr>\n",
              "    <tr>\n",
              "      <th>...</th>\n",
              "      <td>...</td>\n",
              "      <td>...</td>\n",
              "      <td>...</td>\n",
              "      <td>...</td>\n",
              "      <td>...</td>\n",
              "      <td>...</td>\n",
              "      <td>...</td>\n",
              "      <td>...</td>\n",
              "      <td>...</td>\n",
              "      <td>...</td>\n",
              "      <td>...</td>\n",
              "      <td>...</td>\n",
              "    </tr>\n",
              "    <tr>\n",
              "      <th>6014</th>\n",
              "      <td>Maruti Swift VDI</td>\n",
              "      <td>Delhi</td>\n",
              "      <td>2014</td>\n",
              "      <td>27365</td>\n",
              "      <td>Diesel</td>\n",
              "      <td>Manual</td>\n",
              "      <td>First</td>\n",
              "      <td>28.4 kmpl</td>\n",
              "      <td>1248 CC</td>\n",
              "      <td>74 bhp</td>\n",
              "      <td>5.0</td>\n",
              "      <td>4.75</td>\n",
              "    </tr>\n",
              "    <tr>\n",
              "      <th>6015</th>\n",
              "      <td>Hyundai Xcent 1.1 CRDi S</td>\n",
              "      <td>Jaipur</td>\n",
              "      <td>2015</td>\n",
              "      <td>100000</td>\n",
              "      <td>Diesel</td>\n",
              "      <td>Manual</td>\n",
              "      <td>First</td>\n",
              "      <td>24.4 kmpl</td>\n",
              "      <td>1120 CC</td>\n",
              "      <td>71 bhp</td>\n",
              "      <td>5.0</td>\n",
              "      <td>4.00</td>\n",
              "    </tr>\n",
              "    <tr>\n",
              "      <th>6016</th>\n",
              "      <td>Mahindra Xylo D4 BSIV</td>\n",
              "      <td>Jaipur</td>\n",
              "      <td>2012</td>\n",
              "      <td>55000</td>\n",
              "      <td>Diesel</td>\n",
              "      <td>Manual</td>\n",
              "      <td>Second</td>\n",
              "      <td>14.0 kmpl</td>\n",
              "      <td>2498 CC</td>\n",
              "      <td>112 bhp</td>\n",
              "      <td>8.0</td>\n",
              "      <td>2.90</td>\n",
              "    </tr>\n",
              "    <tr>\n",
              "      <th>6017</th>\n",
              "      <td>Maruti Wagon R VXI</td>\n",
              "      <td>Kolkata</td>\n",
              "      <td>2013</td>\n",
              "      <td>46000</td>\n",
              "      <td>Petrol</td>\n",
              "      <td>Manual</td>\n",
              "      <td>First</td>\n",
              "      <td>18.9 kmpl</td>\n",
              "      <td>998 CC</td>\n",
              "      <td>67.1 bhp</td>\n",
              "      <td>5.0</td>\n",
              "      <td>2.65</td>\n",
              "    </tr>\n",
              "    <tr>\n",
              "      <th>6018</th>\n",
              "      <td>Chevrolet Beat Diesel</td>\n",
              "      <td>Hyderabad</td>\n",
              "      <td>2011</td>\n",
              "      <td>47000</td>\n",
              "      <td>Diesel</td>\n",
              "      <td>Manual</td>\n",
              "      <td>First</td>\n",
              "      <td>25.44 kmpl</td>\n",
              "      <td>936 CC</td>\n",
              "      <td>57.6 bhp</td>\n",
              "      <td>5.0</td>\n",
              "      <td>2.50</td>\n",
              "    </tr>\n",
              "  </tbody>\n",
              "</table>\n",
              "<p>6019 rows × 12 columns</p>\n",
              "</div>"
            ],
            "text/plain": [
              "                                  Name    Location  ...  Seats  Price\n",
              "0               Maruti Wagon R LXI CNG      Mumbai  ...    5.0   1.75\n",
              "1     Hyundai Creta 1.6 CRDi SX Option        Pune  ...    5.0  12.50\n",
              "2                         Honda Jazz V     Chennai  ...    5.0   4.50\n",
              "3                    Maruti Ertiga VDI     Chennai  ...    7.0   6.00\n",
              "4      Audi A4 New 2.0 TDI Multitronic  Coimbatore  ...    5.0  17.74\n",
              "...                                ...         ...  ...    ...    ...\n",
              "6014                  Maruti Swift VDI       Delhi  ...    5.0   4.75\n",
              "6015          Hyundai Xcent 1.1 CRDi S      Jaipur  ...    5.0   4.00\n",
              "6016             Mahindra Xylo D4 BSIV      Jaipur  ...    8.0   2.90\n",
              "6017                Maruti Wagon R VXI     Kolkata  ...    5.0   2.65\n",
              "6018             Chevrolet Beat Diesel   Hyderabad  ...    5.0   2.50\n",
              "\n",
              "[6019 rows x 12 columns]"
            ]
          },
          "metadata": {
            "tags": []
          },
          "execution_count": 6
        }
      ]
    },
    {
      "cell_type": "code",
      "metadata": {
        "id": "92lrSERDctwA",
        "colab_type": "code",
        "colab": {}
      },
      "source": [
        ""
      ],
      "execution_count": 0,
      "outputs": []
    }
  ]
}