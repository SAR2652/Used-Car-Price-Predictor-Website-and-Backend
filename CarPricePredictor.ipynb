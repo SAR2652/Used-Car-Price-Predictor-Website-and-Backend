{
  "nbformat": 4,
  "nbformat_minor": 0,
  "metadata": {
    "colab": {
      "name": "CarPricePredictor.ipynb",
      "provenance": []
    },
    "kernelspec": {
      "name": "python3",
      "display_name": "Python 3"
    },
    "accelerator": "GPU"
  },
  "cells": [
    {
      "cell_type": "code",
      "metadata": {
        "id": "k_GgcztWa01q",
        "colab_type": "code",
        "outputId": "c58075b8-51b2-4b3e-a10e-b7d89c8520b2",
        "colab": {
          "base_uri": "https://localhost:8080/",
          "height": 87
        }
      },
      "source": [
        "import pandas as pd\n",
        "import numpy as np\n",
        "\n",
        "filename = \"train.csv\"\n",
        "df = pd.read_csv(filename)\n",
        "print(df.columns)"
      ],
      "execution_count": 22,
      "outputs": [
        {
          "output_type": "stream",
          "text": [
            "Index(['Name', 'Location', 'Year', 'Kilometers_Driven', 'Fuel_Type',\n",
            "       'Transmission', 'Owner_Type', 'Mileage', 'Engine', 'Power', 'Seats',\n",
            "       'New_Price', 'Price'],\n",
            "      dtype='object')\n"
          ],
          "name": "stdout"
        }
      ]
    },
    {
      "cell_type": "code",
      "metadata": {
        "id": "tIM_ZA_tCNQB",
        "colab_type": "code",
        "colab": {}
      },
      "source": [
        "def reset_df():\n",
        "  global df\n",
        "  df = pd.read_csv(\"train.csv\")"
      ],
      "execution_count": 0,
      "outputs": []
    },
    {
      "cell_type": "code",
      "metadata": {
        "id": "x5jyC28veXMT",
        "colab_type": "code",
        "colab": {}
      },
      "source": [
        "import seaborn as sns\n",
        "import matplotlib.pyplot as plt\n",
        "class Visualizer:\n",
        "  def __init__(self):\n",
        "    pass\n",
        "\n",
        "  def getCrossTab(self, feature_name, label, dataframe):\n",
        "    data_ct = pd.crosstab(dataframe[feature_name], dataframe[label], margins = False)\n",
        "    return data_ct\n",
        "\n",
        "  def drawBoxPlot(self, feature, label, df_, subplots = False, nrows = 0, ncolumns = 0):\n",
        "    if not subplots:\n",
        "      sns.boxplot(x=label, y = feature, data = df_)\n",
        "    else:\n",
        "      fig, ax = plt.subplots(nrows, ncolumns, figsize = (15,15))\n",
        "      fig.subplots_adjust(hspace = 0.8, wspace = 0.8)\n",
        "      d = 0\n",
        "      for row in range(nrows):\n",
        "        for col in range(ncolumns):\n",
        "          sns.boxplot(x=label, y=feature[d], data=df_, ax = ax[row, col])\n",
        "          d += 1\n",
        "          if d >= len(feature):\n",
        "            return\n",
        "\n",
        "  def drawHist(self, feature, df_, subplots = False, nrows = 0, ncolumns = 0):\n",
        "    if not subplots:\n",
        "        plt.hist(df_[feature])\n",
        "      \n",
        "    else:\n",
        "      fig, ax = plt.subplots(nrows, ncolumns, figsize = (15,15))\n",
        "      fig.subplots_adjust(hspace = 0.8, wspace = 0.8)\n",
        "      d = 0\n",
        "      for row in range(nrows):\n",
        "        for col in range(ncolumns):\n",
        "          ax[row, col].hist(df_[feature[d]])\n",
        "          ax[row, col].set_xlabel(feature[d])\n",
        "          d += 1\n",
        "          if d >= len(feature):\n",
        "            return\n",
        "\n",
        "  def simplePlot(self, feature, label, df_, subplots = False, nrows = 0, ncolumns = 0):\n",
        "    if not subplots: \n",
        "     plt.plot(df_[feature], df_[label])\n",
        "    else:\n",
        "      fig, ax = plt.subplots(nrows, ncolumns, figsize = (15,15))\n",
        "      fig.subplots_adjust(hspace = 0.8, wspace = 0.8)\n",
        "      d = 0\n",
        "      for row in range(nrows):\n",
        "        for col in range(ncolumns):\n",
        "          ax[row, col].plot(df_[feature[d]], df_[label])\n",
        "          ax[row, col].set_xlabel(feature[d])\n",
        "          d += 1\n",
        "          if d >= len(feature):\n",
        "            return\n",
        "\n",
        "  def hexBins(self, feature, label, df_, subplots = False, nrows = 0, ncolumns = 0):\n",
        "    if not subplots:\n",
        "      x = df_[feature]\n",
        "      y = df_[label]\n",
        "      plt.hexbin(x, y, gridsize=30, cmap='Blues')\n"
      ],
      "execution_count": 0,
      "outputs": []
    },
    {
      "cell_type": "code",
      "metadata": {
        "id": "fSBtxBObB1P9",
        "colab_type": "code",
        "colab": {}
      },
      "source": [
        "null_cols = df.columns[df.isnull().any()].tolist()\n",
        "transform_cols = [\"Mileage\", \"Engine\", \"Power\"]"
      ],
      "execution_count": 0,
      "outputs": []
    },
    {
      "cell_type": "code",
      "metadata": {
        "id": "iAm_NMuQC-3E",
        "colab_type": "code",
        "colab": {}
      },
      "source": [
        "reset_df()"
      ],
      "execution_count": 0,
      "outputs": []
    },
    {
      "cell_type": "code",
      "metadata": {
        "id": "YjmZkExFCuIq",
        "colab_type": "code",
        "colab": {}
      },
      "source": [
        "for x in range(df.shape[0]):\n",
        "    val = df.loc[x, \"Engine\"]\n",
        "    i = 0\n",
        "    if not (type(val) == float):\n",
        "      df.loc[x, \"Engine\"] = int((df.loc[x, \"Engine\"]).split()[0])"
      ],
      "execution_count": 0,
      "outputs": []
    },
    {
      "cell_type": "code",
      "metadata": {
        "id": "NPzDdMQZE_aY",
        "colab_type": "code",
        "colab": {}
      },
      "source": [
        "for x in range(df.shape[0]):\n",
        "    val = df.loc[x, \"Mileage\"]\n",
        "    i = 0\n",
        "    if not (type(val) == float):\n",
        "      df.loc[x, \"Mileage\"] = float((df.loc[x, \"Mileage\"]).split()[0])\n"
      ],
      "execution_count": 0,
      "outputs": []
    },
    {
      "cell_type": "code",
      "metadata": {
        "id": "MKC7GjtdTxfR",
        "colab_type": "code",
        "colab": {
          "base_uri": "https://localhost:8080/",
          "height": 230
        },
        "outputId": "a77b3254-dae8-4ac5-a80d-13dafcfbc736"
      },
      "source": [
        "df.loc[:,\"Power\"]"
      ],
      "execution_count": 38,
      "outputs": [
        {
          "output_type": "execute_result",
          "data": {
            "text/plain": [
              "0       58.16\n",
              "1       126.2\n",
              "2        88.7\n",
              "3       88.76\n",
              "4       140.8\n",
              "        ...  \n",
              "6014       74\n",
              "6015       71\n",
              "6016      112\n",
              "6017     67.1\n",
              "6018     57.6\n",
              "Name: Power, Length: 6019, dtype: object"
            ]
          },
          "metadata": {
            "tags": []
          },
          "execution_count": 38
        }
      ]
    },
    {
      "cell_type": "code",
      "metadata": {
        "id": "mOm4BS8hTgZz",
        "colab_type": "code",
        "colab": {}
      },
      "source": [
        "for x in range(df.shape[0]):\n",
        "    val = df.loc[x, \"Power\"]\n",
        "    i = 0\n",
        "    if (not (type(val) == float)) and val.split()[0] != 'null':\n",
        "      df.loc[x, \"Power\"] = float((df.loc[x, \"Power\"]).split()[0])\n"
      ],
      "execution_count": 0,
      "outputs": []
    },
    {
      "cell_type": "code",
      "metadata": {
        "id": "77XZzKeHC3z8",
        "colab_type": "code",
        "colab": {}
      },
      "source": [
        "import math \n",
        "for x in range(df[\"Engine\"].shape[0]):\n",
        "  if type(df.loc[x, 'Engine']) == float:\n",
        "    print(math.isnan(df.loc[x,\"Engine\"]))"
      ],
      "execution_count": 0,
      "outputs": []
    },
    {
      "cell_type": "code",
      "metadata": {
        "id": "Me5vGAkTUlL3",
        "colab_type": "code",
        "colab": {}
      },
      "source": [
        "nan_value = df.loc[194, \"Power\"] "
      ],
      "execution_count": 0,
      "outputs": []
    },
    {
      "cell_type": "code",
      "metadata": {
        "id": "hw9T71XPVv8S",
        "colab_type": "code",
        "colab": {}
      },
      "source": [
        "df.loc[df[\"Power\"] == 'null bhp',\"Power\"] = np.nan"
      ],
      "execution_count": 0,
      "outputs": []
    },
    {
      "cell_type": "code",
      "metadata": {
        "id": "rrkS7-sxVtfS",
        "colab_type": "code",
        "colab": {
          "base_uri": "https://localhost:8080/",
          "height": 230
        },
        "outputId": "216245c7-b777-4d1b-9f08-92fabf76be01"
      },
      "source": [
        "df.loc[df[\"Power\"].isnull(),\"Power\"]"
      ],
      "execution_count": 93,
      "outputs": [
        {
          "output_type": "execute_result",
          "data": {
            "text/plain": [
              "76      NaN\n",
              "79      NaN\n",
              "89      NaN\n",
              "120     NaN\n",
              "143     NaN\n",
              "       ... \n",
              "5873    NaN\n",
              "5893    NaN\n",
              "5925    NaN\n",
              "5943    NaN\n",
              "5985    NaN\n",
              "Name: Power, Length: 143, dtype: object"
            ]
          },
          "metadata": {
            "tags": []
          },
          "execution_count": 93
        }
      ]
    },
    {
      "cell_type": "code",
      "metadata": {
        "id": "DLRLfK3xY88F",
        "colab_type": "code",
        "colab": {
          "base_uri": "https://localhost:8080/",
          "height": 265
        },
        "outputId": "1a5c51a1-e26c-4c96-8f76-014d80cc4ce7"
      },
      "source": [
        "df.isnull().any()"
      ],
      "execution_count": 97,
      "outputs": [
        {
          "output_type": "execute_result",
          "data": {
            "text/plain": [
              "Name                 False\n",
              "Location             False\n",
              "Year                 False\n",
              "Kilometers_Driven    False\n",
              "Fuel_Type            False\n",
              "Transmission         False\n",
              "Owner_Type           False\n",
              "Mileage               True\n",
              "Engine               False\n",
              "Power                False\n",
              "Seats                 True\n",
              "New_Price             True\n",
              "Price                False\n",
              "dtype: bool"
            ]
          },
          "metadata": {
            "tags": []
          },
          "execution_count": 97
        }
      ]
    },
    {
      "cell_type": "code",
      "metadata": {
        "id": "_6Zqabf1c2NK",
        "colab_type": "code",
        "colab": {}
      },
      "source": [
        ""
      ],
      "execution_count": 0,
      "outputs": []
    },
    {
      "cell_type": "code",
      "metadata": {
        "id": "pf5opWE1ZNBw",
        "colab_type": "code",
        "colab": {
          "base_uri": "https://localhost:8080/",
          "height": 296
        },
        "outputId": "2550487c-3373-461f-89cc-b80006a3f3d5"
      },
      "source": [
        "sns.boxplot(x = \"Seats\", y = \"Price\", data = df.dropna())"
      ],
      "execution_count": 98,
      "outputs": [
        {
          "output_type": "execute_result",
          "data": {
            "text/plain": [
              "<matplotlib.axes._subplots.AxesSubplot at 0x7f23cfada080>"
            ]
          },
          "metadata": {
            "tags": []
          },
          "execution_count": 98
        },
        {
          "output_type": "display_data",
          "data": {
            "image/png": "[encoded data removed]",
            "text/plain": [
              "<Figure size 432x288 with 1 Axes>"
            ]
          },
          "metadata": {
            "tags": []
          }
        }
      ]
    },
    {
      "cell_type": "code",
      "metadata": {
        "id": "lRYV8tFwlb2a",
        "colab_type": "code",
        "colab": {
          "base_uri": "https://localhost:8080/",
          "height": 230
        },
        "outputId": "e8d727cc-c5fc-4319-c85b-5b12be5219ff"
      },
      "source": [
        "# print(fill_miss.reshape(-1,2))\n",
        "print(pd.Series(fill_miss.T[0]))"
      ],
      "execution_count": 112,
      "outputs": [
        {
          "output_type": "stream",
          "text": [
            "0       5.0\n",
            "1       5.0\n",
            "2       5.0\n",
            "3       7.0\n",
            "4       5.0\n",
            "       ... \n",
            "6014    5.0\n",
            "6015    5.0\n",
            "6016    8.0\n",
            "6017    5.0\n",
            "6018    5.0\n",
            "Length: 6019, dtype: float64\n"
          ],
          "name": "stdout"
        }
      ]
    },
    {
      "cell_type": "code",
      "metadata": {
        "id": "NKi7XzSkeifH",
        "colab_type": "code",
        "outputId": "ce1c167c-c06d-46eb-f0b3-9f7f4ea7a46d",
        "colab": {
          "base_uri": "https://localhost:8080/",
          "height": 1000
        }
      },
      "source": [
        "%matplotlib inline\n",
        "from sklearn.impute import SimpleImputer\n",
        "from sklearn.experimental import enable_iterative_imputer\n",
        "from sklearn.impute import IterativeImputer\n",
        "imp = IterativeImputer(max_iter=10, random_state=0)\n",
        "# knni = KNNImputer(n_neighbors = 2, weights = 'normal')\n",
        "fill_miss = imp.fit_transform(pd.DataFrame({'Seats':df[\"Seats\"], 'Price':df[\"Price\"]}))\n",
        "df[\"Seats\"] = pd.Series(fill_miss.T[0])\n",
        "si = SimpleImputer(strategy = 'mean')\n",
        "df['Engine'] = si.fit_transform(np.array(df['Engine']).reshape(-1,1))\n",
        "si_new = SimpleImputer(missing_values = np.nan, strategy=\"mean\")\n",
        "df['Power'] = si_new.fit_transform(np.array(df[\"Power\"]).reshape(-1,1))\n",
        "visualizer = Visualizer()\n",
        "feature_name = \"Price\"\n",
        "label = \"Kilometers_Driven\"\n",
        "visualizer.simplePlot(feature = label, label = feature_name, df_ = df)\n",
        "label = \"Fuel_Type\"\n",
        "plt.figure()\n",
        "visualizer.drawBoxPlot(feature = feature_name, label = label, df_=df)\n",
        "plt.figure()\n",
        "visualizer.drawHist(feature = \"Engine\", df_ = df)\n",
        "plt.figure()\n",
        "plt.scatter(df[\"Power\"], df[\"Price\"])"
      ],
      "execution_count": 113,
      "outputs": [
        {
          "output_type": "execute_result",
          "data": {
            "text/plain": [
              "<matplotlib.collections.PathCollection at 0x7f23c68147f0>"
            ]
          },
          "metadata": {
            "tags": []
          },
          "execution_count": 113
        },
        {
          "output_type": "display_data",
          "data": {
            "image/png": "[encoded data removed]",
            "text/plain": [
              "<Figure size 432x288 with 1 Axes>"
            ]
          },
          "metadata": {
            "tags": []
          }
        },
        {
          "output_type": "display_data",
          "data": {
            "image/png": "[encoded data removed]",
            "text/plain": [
              "<Figure size 432x288 with 1 Axes>"
            ]
          },
          "metadata": {
            "tags": []
          }
        },
        {
          "output_type": "display_data",
          "data": {
            "image/png": "[encoded data removed]",
            "text/plain": [
              "<Figure size 432x288 with 1 Axes>"
            ]
          },
          "metadata": {
            "tags": []
          }
        },
        {
          "output_type": "display_data",
          "data": {
            "image/png": "[encoded data removed]",
            "text/plain": [
              "<Figure size 432x288 with 1 Axes>"
            ]
          },
          "metadata": {
            "tags": []
          }
        }
      ]
    },
    {
      "cell_type": "code",
      "metadata": {
        "id": "7u_vO6Y4fIWc",
        "colab_type": "code",
        "colab": {}
      },
      "source": [
        ""
      ],
      "execution_count": 0,
      "outputs": []
    },
    {
      "cell_type": "code",
      "metadata": {
        "id": "cPzqJw43eFeD",
        "colab_type": "code",
        "outputId": "1e29f47f-c587-4ed0-b696-056b0755c628",
        "colab": {
          "base_uri": "https://localhost:8080/",
          "height": 656
        }
      },
      "source": [
        "df.drop('New_Price', axis = 1)"
      ],
      "execution_count": 0,
      "outputs": [
        {
          "output_type": "execute_result",
          "data": {
            "text/html": [
              "<div>\n",
              "<style scoped>\n",
              "    .dataframe tbody tr th:only-of-type {\n",
              "        vertical-align: middle;\n",
              "    }\n",
              "\n",
              "    .dataframe tbody tr th {\n",
              "        vertical-align: top;\n",
              "    }\n",
              "\n",
              "    .dataframe thead th {\n",
              "        text-align: right;\n",
              "    }\n",
              "</style>\n",
              "<table border=\"1\" class=\"dataframe\">\n",
              "  <thead>\n",
              "    <tr style=\"text-align: right;\">\n",
              "      <th></th>\n",
              "      <th>Name</th>\n",
              "      <th>Location</th>\n",
              "      <th>Year</th>\n",
              "      <th>Kilometers_Driven</th>\n",
              "      <th>Fuel_Type</th>\n",
              "      <th>Transmission</th>\n",
              "      <th>Owner_Type</th>\n",
              "      <th>Mileage</th>\n",
              "      <th>Engine</th>\n",
              "      <th>Power</th>\n",
              "      <th>Seats</th>\n",
              "      <th>Price</th>\n",
              "    </tr>\n",
              "  </thead>\n",
              "  <tbody>\n",
              "    <tr>\n",
              "      <th>0</th>\n",
              "      <td>Maruti Wagon R LXI CNG</td>\n",
              "      <td>Mumbai</td>\n",
              "      <td>2010</td>\n",
              "      <td>72000</td>\n",
              "      <td>CNG</td>\n",
              "      <td>Manual</td>\n",
              "      <td>First</td>\n",
              "      <td>26.6 km/kg</td>\n",
              "      <td>998 CC</td>\n",
              "      <td>58.16 bhp</td>\n",
              "      <td>5.0</td>\n",
              "      <td>1.75</td>\n",
              "    </tr>\n",
              "    <tr>\n",
              "      <th>1</th>\n",
              "      <td>Hyundai Creta 1.6 CRDi SX Option</td>\n",
              "      <td>Pune</td>\n",
              "      <td>2015</td>\n",
              "      <td>41000</td>\n",
              "      <td>Diesel</td>\n",
              "      <td>Manual</td>\n",
              "      <td>First</td>\n",
              "      <td>19.67 kmpl</td>\n",
              "      <td>1582 CC</td>\n",
              "      <td>126.2 bhp</td>\n",
              "      <td>5.0</td>\n",
              "      <td>12.50</td>\n",
              "    </tr>\n",
              "    <tr>\n",
              "      <th>2</th>\n",
              "      <td>Honda Jazz V</td>\n",
              "      <td>Chennai</td>\n",
              "      <td>2011</td>\n",
              "      <td>46000</td>\n",
              "      <td>Petrol</td>\n",
              "      <td>Manual</td>\n",
              "      <td>First</td>\n",
              "      <td>18.2 kmpl</td>\n",
              "      <td>1199 CC</td>\n",
              "      <td>88.7 bhp</td>\n",
              "      <td>5.0</td>\n",
              "      <td>4.50</td>\n",
              "    </tr>\n",
              "    <tr>\n",
              "      <th>3</th>\n",
              "      <td>Maruti Ertiga VDI</td>\n",
              "      <td>Chennai</td>\n",
              "      <td>2012</td>\n",
              "      <td>87000</td>\n",
              "      <td>Diesel</td>\n",
              "      <td>Manual</td>\n",
              "      <td>First</td>\n",
              "      <td>20.77 kmpl</td>\n",
              "      <td>1248 CC</td>\n",
              "      <td>88.76 bhp</td>\n",
              "      <td>7.0</td>\n",
              "      <td>6.00</td>\n",
              "    </tr>\n",
              "    <tr>\n",
              "      <th>4</th>\n",
              "      <td>Audi A4 New 2.0 TDI Multitronic</td>\n",
              "      <td>Coimbatore</td>\n",
              "      <td>2013</td>\n",
              "      <td>40670</td>\n",
              "      <td>Diesel</td>\n",
              "      <td>Automatic</td>\n",
              "      <td>Second</td>\n",
              "      <td>15.2 kmpl</td>\n",
              "      <td>1968 CC</td>\n",
              "      <td>140.8 bhp</td>\n",
              "      <td>5.0</td>\n",
              "      <td>17.74</td>\n",
              "    </tr>\n",
              "    <tr>\n",
              "      <th>...</th>\n",
              "      <td>...</td>\n",
              "      <td>...</td>\n",
              "      <td>...</td>\n",
              "      <td>...</td>\n",
              "      <td>...</td>\n",
              "      <td>...</td>\n",
              "      <td>...</td>\n",
              "      <td>...</td>\n",
              "      <td>...</td>\n",
              "      <td>...</td>\n",
              "      <td>...</td>\n",
              "      <td>...</td>\n",
              "    </tr>\n",
              "    <tr>\n",
              "      <th>6014</th>\n",
              "      <td>Maruti Swift VDI</td>\n",
              "      <td>Delhi</td>\n",
              "      <td>2014</td>\n",
              "      <td>27365</td>\n",
              "      <td>Diesel</td>\n",
              "      <td>Manual</td>\n",
              "      <td>First</td>\n",
              "      <td>28.4 kmpl</td>\n",
              "      <td>1248 CC</td>\n",
              "      <td>74 bhp</td>\n",
              "      <td>5.0</td>\n",
              "      <td>4.75</td>\n",
              "    </tr>\n",
              "    <tr>\n",
              "      <th>6015</th>\n",
              "      <td>Hyundai Xcent 1.1 CRDi S</td>\n",
              "      <td>Jaipur</td>\n",
              "      <td>2015</td>\n",
              "      <td>100000</td>\n",
              "      <td>Diesel</td>\n",
              "      <td>Manual</td>\n",
              "      <td>First</td>\n",
              "      <td>24.4 kmpl</td>\n",
              "      <td>1120 CC</td>\n",
              "      <td>71 bhp</td>\n",
              "      <td>5.0</td>\n",
              "      <td>4.00</td>\n",
              "    </tr>\n",
              "    <tr>\n",
              "      <th>6016</th>\n",
              "      <td>Mahindra Xylo D4 BSIV</td>\n",
              "      <td>Jaipur</td>\n",
              "      <td>2012</td>\n",
              "      <td>55000</td>\n",
              "      <td>Diesel</td>\n",
              "      <td>Manual</td>\n",
              "      <td>Second</td>\n",
              "      <td>14.0 kmpl</td>\n",
              "      <td>2498 CC</td>\n",
              "      <td>112 bhp</td>\n",
              "      <td>8.0</td>\n",
              "      <td>2.90</td>\n",
              "    </tr>\n",
              "    <tr>\n",
              "      <th>6017</th>\n",
              "      <td>Maruti Wagon R VXI</td>\n",
              "      <td>Kolkata</td>\n",
              "      <td>2013</td>\n",
              "      <td>46000</td>\n",
              "      <td>Petrol</td>\n",
              "      <td>Manual</td>\n",
              "      <td>First</td>\n",
              "      <td>18.9 kmpl</td>\n",
              "      <td>998 CC</td>\n",
              "      <td>67.1 bhp</td>\n",
              "      <td>5.0</td>\n",
              "      <td>2.65</td>\n",
              "    </tr>\n",
              "    <tr>\n",
              "      <th>6018</th>\n",
              "      <td>Chevrolet Beat Diesel</td>\n",
              "      <td>Hyderabad</td>\n",
              "      <td>2011</td>\n",
              "      <td>47000</td>\n",
              "      <td>Diesel</td>\n",
              "      <td>Manual</td>\n",
              "      <td>First</td>\n",
              "      <td>25.44 kmpl</td>\n",
              "      <td>936 CC</td>\n",
              "      <td>57.6 bhp</td>\n",
              "      <td>5.0</td>\n",
              "      <td>2.50</td>\n",
              "    </tr>\n",
              "  </tbody>\n",
              "</table>\n",
              "<p>6019 rows × 12 columns</p>\n",
              "</div>"
            ],
            "text/plain": [
              "                                  Name    Location  ...  Seats  Price\n",
              "0               Maruti Wagon R LXI CNG      Mumbai  ...    5.0   1.75\n",
              "1     Hyundai Creta 1.6 CRDi SX Option        Pune  ...    5.0  12.50\n",
              "2                         Honda Jazz V     Chennai  ...    5.0   4.50\n",
              "3                    Maruti Ertiga VDI     Chennai  ...    7.0   6.00\n",
              "4      Audi A4 New 2.0 TDI Multitronic  Coimbatore  ...    5.0  17.74\n",
              "...                                ...         ...  ...    ...    ...\n",
              "6014                  Maruti Swift VDI       Delhi  ...    5.0   4.75\n",
              "6015          Hyundai Xcent 1.1 CRDi S      Jaipur  ...    5.0   4.00\n",
              "6016             Mahindra Xylo D4 BSIV      Jaipur  ...    8.0   2.90\n",
              "6017                Maruti Wagon R VXI     Kolkata  ...    5.0   2.65\n",
              "6018             Chevrolet Beat Diesel   Hyderabad  ...    5.0   2.50\n",
              "\n",
              "[6019 rows x 12 columns]"
            ]
          },
          "metadata": {
            "tags": []
          },
          "execution_count": 6
        }
      ]
    },
    {
      "cell_type": "code",
      "metadata": {
        "id": "92lrSERDctwA",
        "colab_type": "code",
        "colab": {}
      },
      "source": [
        ""
      ],
      "execution_count": 0,
      "outputs": []
    }
  ]
}